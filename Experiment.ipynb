{
 "cells": [
  {
   "cell_type": "markdown",
   "id": "db3ee306",
   "metadata": {},
   "source": [
    "# Environment setup\n",
    "\n",
    "Launching this artifact on trovi has already provisioned a single baremetal node for us, and installed this Jupyter environment. Now, we'll need to finish the setup by installing our experiment's runtime requirements.\n",
    "\n",
    "This simple power measurement experiment will use the `perf` program to query the CPU's power registers. For more information in general about power management, see [this blog post](https://chameleoncloud.org/blog/2024/06/18/power-measurement-and-management-on-chameleon/).\n",
    "\n",
    "The setup script will update apt packages, and install the following:\n",
    "- `stress-ng` - to run a stress test process on the CPU\n",
    "- `linux-tools` - which contains the `perf` binary allowing us to read the power registers\n",
    "\n",
    "Then the setup script load the Intel RAPL kernel module `intel_rapl_msr`."
   ]
  },
  {
   "cell_type": "code",
   "execution_count": null,
   "id": "8060dad3",
   "metadata": {},
   "outputs": [],
   "source": [
    "import os\n",
    "\n",
    "os.system(\"scripts/setup.sh\")"
   ]
  },
  {
   "cell_type": "markdown",
   "id": "dd7a4e64",
   "metadata": {},
   "source": [
    "# Experiment execution\n",
    "\n",
    "Now, we can finally run the experiment. This will run the `stress-ng` program on different numbers of CPUs for 10 seconds, and measures the power consumption via `perf`.\n",
    "\n",
    "The `run.sh` script handles running these commands and capturing the output into the `./out` directory.\n",
    "\n",
    "The following section of code runs this script several times. You can change the number of iterations to gather more data points, which may result in a more interesting result."
   ]
  },
  {
   "cell_type": "code",
   "execution_count": null,
   "id": "213a2694",
   "metadata": {},
   "outputs": [],
   "source": [
    "iterations = 3\n",
    "for i in range(iterations):\n",
    "    print(f\"Iteration {i+1}/{iterations}:\")\n",
    "    os.system(\"bash scripts/run.sh 10\")\n",
    "    print()\n",
    "print(\"Done!\")"
   ]
  },
  {
   "cell_type": "markdown",
   "id": "e11d8b59",
   "metadata": {},
   "source": [
    "# Analyze results\n",
    "\n",
    "Now we can load the data with python into our notebook, and then plot it using `matplotlib`"
   ]
  },
  {
   "cell_type": "code",
   "execution_count": null,
   "id": "5dff1e01",
   "metadata": {},
   "outputs": [],
   "source": [
    "from collections import defaultdict\n",
    "data = {\n",
    "    \"power/energy-pkg/\": defaultdict(list),\n",
    "    \"power/energy-ram/\": defaultdict(list),\n",
    "}\n",
    "\n",
    "for filename in os.listdir(\"out/\"):\n",
    "    # Only parse our data files\n",
    "    if \".out\" not in filename:\n",
    "        continue\n",
    "    with open(f\"out/{filename}\") as f:\n",
    "        for line in f.readlines():\n",
    "            line = line.strip()\n",
    "            cores, value, measurement = line.split(\" \")\n",
    "            data[measurement][cores].append(float(value))\n"
   ]
  },
  {
   "cell_type": "code",
   "execution_count": null,
   "id": "068dc3b2",
   "metadata": {},
   "outputs": [],
   "source": [
    "import matplotlib.pyplot as plt\n",
    "\n",
    "# Format perf's label into a nicer string\n",
    "PERF_CHART_TYPE_FORMAT = {\n",
    "    \"power/energy-pkg/\": \"CPU\",\n",
    "    \"power/energy-ram/\": \"RAM\",\n",
    "}\n",
    "\n",
    "fig, (ax1, ax2) = plt.subplots(1, 2, figsize=(20, 8))\n",
    "axes = iter([ax1, ax2])\n",
    "\n",
    "for chart_type, chart_data in data.items():\n",
    "    subplot = next(axes)\n",
    "    labels = list(chart_data.keys())\n",
    "    values = list(chart_data.values())\n",
    "    subplot.boxplot(values, tick_labels=labels)\n",
    "    \n",
    "    subplot.set_title(f'{PERF_CHART_TYPE_FORMAT[chart_type]} Energy Consumption\\nfor CPU Utilization % Box Plot')\n",
    "    subplot.set_xlabel('CPU Utilization %')\n",
    "    subplot.set_ylabel('Joules')\n",
    "plt.show()"
   ]
  },
  {
   "cell_type": "code",
   "execution_count": null,
   "id": "0fc4785e",
   "metadata": {},
   "outputs": [],
   "source": []
  }
 ],
 "metadata": {
  "kernelspec": {
   "display_name": "Python 3 (ipykernel)",
   "language": "python",
   "name": "python3"
  },
  "language_info": {
   "codemirror_mode": {
    "name": "ipython",
    "version": 3
   },
   "file_extension": ".py",
   "mimetype": "text/x-python",
   "name": "python",
   "nbconvert_exporter": "python",
   "pygments_lexer": "ipython3",
   "version": "3.10.12"
  }
 },
 "nbformat": 4,
 "nbformat_minor": 5
}
